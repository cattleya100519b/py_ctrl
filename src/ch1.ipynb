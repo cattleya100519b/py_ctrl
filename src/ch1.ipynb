{
 "cells": [
  {
   "cell_type": "code",
   "execution_count": 17,
   "metadata": {},
   "outputs": [
    {
     "name": "stdout",
     "output_type": "stream",
     "text": [
      "7\n"
     ]
    }
   ],
   "source": [
    "# lambda function\n",
    "f = lambda x: x**2 + x + 1\n",
    "f1 = f\n",
    "y = f1(2)\n",
    "print(y)"
   ]
  },
  {
   "cell_type": "code",
   "execution_count": 18,
   "metadata": {},
   "outputs": [
    {
     "name": "stdout",
     "output_type": "stream",
     "text": [
      "14\n"
     ]
    }
   ],
   "source": [
    "# higher-order function\n",
    "g = lambda f: lambda x: 2*f(x)\n",
    "g1 = g\n",
    "y = g1(f1)(2)\n",
    "print(y)"
   ]
  },
  {
   "cell_type": "code",
   "execution_count": 19,
   "metadata": {},
   "outputs": [
    {
     "name": "stdout",
     "output_type": "stream",
     "text": [
      "<class 'function'>\n",
      "9\n"
     ]
    }
   ],
   "source": [
    "from typing import Callable\n",
    "\n",
    "def outer(a: int, b: int)->Callable[[int],int]:\n",
    "    \"\"\"\n",
    "    return a function that takes an int and returns an int\n",
    "\n",
    "    Returns:\n",
    "        Callable[[int],int]: function that takes an int and returns an int\n",
    "    \"\"\"\n",
    "    def inner(c: int)->int:\n",
    "        \"\"\"\n",
    "        closure function that takes an int and returns an int\n",
    "        \"\"\"\n",
    "        return c*(a+b)\n",
    "    return inner\n",
    "\n",
    "in1=outer(1,2)\n",
    "print(type(in1))\n",
    "\n",
    "y=in1(3)\n",
    "print(y)"
   ]
  },
  {
   "cell_type": "code",
   "execution_count": 20,
   "metadata": {},
   "outputs": [
    {
     "name": "stdout",
     "output_type": "stream",
     "text": [
      "-\n",
      "--\n",
      "-.\n",
      ":\n"
     ]
    }
   ],
   "source": [
    "# generator\n",
    "def gen_linestyle():\n",
    "    linestyle = ['-', '--', '-.', ':']\n",
    "    for i in linestyle:\n",
    "        yield i\n",
    "\n",
    "for line in gen_linestyle():\n",
    "    print(line)"
   ]
  },
  {
   "cell_type": "code",
   "execution_count": 21,
   "metadata": {},
   "outputs": [
    {
     "name": "stdout",
     "output_type": "stream",
     "text": [
      "[1.0, 2.0, 3.0, 4.0, 5.0]\n",
      "[2.0, 4.0]\n"
     ]
    }
   ],
   "source": [
    "\n",
    "realnums = [1.0, 2.0, 3.0, 4.0, 5.0]\n",
    "list_all = [x for x in realnums]\n",
    "print(list_all)\n",
    "\n",
    "list_mod2 = [x for x in realnums if x % 2 == 0]\n",
    "print(list_mod2)"
   ]
  },
  {
   "cell_type": "code",
   "execution_count": 22,
   "metadata": {},
   "outputs": [
    {
     "name": "stdout",
     "output_type": "stream",
     "text": [
      "1225\n",
      "35.0\n"
     ]
    }
   ],
   "source": [
    "from numpy import sqrt\n",
    "\n",
    "s = sum([i for i in range(1,50)])\n",
    "print(s)\n",
    "print(sqrt(s))"
   ]
  },
  {
   "cell_type": "code",
   "execution_count": 23,
   "metadata": {},
   "outputs": [
    {
     "data": {
      "text/latex": [
       "$\\displaystyle A=\\left[\\begin{matrix}1 & 2\\\\-3 & 4\\end{matrix}\\right]$"
      ],
      "text/plain": [
       "<IPython.core.display.Math object>"
      ]
     },
     "metadata": {},
     "output_type": "display_data"
    },
    {
     "data": {
      "text/latex": [
       "$\\displaystyle {}^t\\! A=\\left[\\begin{matrix}1 & -3\\\\2 & 4\\end{matrix}\\right]$"
      ],
      "text/plain": [
       "<IPython.core.display.Math object>"
      ]
     },
     "metadata": {},
     "output_type": "display_data"
    }
   ],
   "source": [
    "import numpy as np\n",
    "from common import disp_mat\n",
    "\n",
    "A = np.array([[1, 2], [-3, 4]])\n",
    "disp_mat('A', A)\n",
    "disp_mat('{}^t\\\\! A', A.T)"
   ]
  },
  {
   "cell_type": "code",
   "execution_count": 24,
   "metadata": {},
   "outputs": [
    {
     "data": {
      "text/latex": [
       "$\\displaystyle M = \\left[\\begin{matrix}1 & 2\\\\-3 & 4\\end{matrix}\\right]$"
      ],
      "text/plain": [
       "<IPython.core.display.Math object>"
      ]
     },
     "metadata": {},
     "output_type": "display_data"
    },
    {
     "data": {
      "text/latex": [
       "$\\displaystyle M^T = \\left[\\begin{matrix}1 & -3\\\\2 & 4\\end{matrix}\\right]$"
      ],
      "text/plain": [
       "<IPython.core.display.Math object>"
      ]
     },
     "metadata": {},
     "output_type": "display_data"
    },
    {
     "data": {
      "text/latex": [
       "$\\displaystyle M^{T} = \\left[\\begin{matrix}1 & -3\\\\2 & 4\\end{matrix}\\right]$"
      ],
      "text/plain": [
       "<IPython.core.display.Math object>"
      ]
     },
     "metadata": {},
     "output_type": "display_data"
    }
   ],
   "source": [
    "from sympy import latex, Matrix, MatrixSymbol\n",
    "from common import disp_tex\n",
    "\n",
    "M = Matrix([[1, 2], [-3, 4]])\n",
    "disp_tex(f'M = {latex(M)}')\n",
    "disp_tex(f'M^T = {latex(M.T)}')\n",
    "disp_tex(f'{latex(MatrixSymbol(\"M\", 2, 2).T)} = {latex(M.T)}')"
   ]
  },
  {
   "cell_type": "code",
   "execution_count": 37,
   "metadata": {},
   "outputs": [
    {
     "data": {
      "text/latex": [
       "$\\displaystyle B=\\left[\\begin{matrix}0.4 & -0.2\\\\0.3 & 0.1\\end{matrix}\\right]$"
      ],
      "text/plain": [
       "<IPython.core.display.Math object>"
      ]
     },
     "metadata": {},
     "output_type": "display_data"
    },
    {
     "data": {
      "text/latex": [
       "$\\displaystyle A^{-1}=\\left[\\begin{matrix}0.4 & -0.2\\\\0.3 & 0.1\\end{matrix}\\right]$"
      ],
      "text/plain": [
       "<IPython.core.display.Math object>"
      ]
     },
     "metadata": {},
     "output_type": "display_data"
    },
    {
     "data": {
      "text/latex": [
       "$\\displaystyle A^{-1}=\\left[\\begin{matrix}0.4 & -0.2\\\\0.3 & 0.1\\end{matrix}\\right]$"
      ],
      "text/plain": [
       "<IPython.core.display.Math object>"
      ]
     },
     "metadata": {},
     "output_type": "display_data"
    },
    {
     "data": {
      "text/latex": [
       "$\\displaystyle A^{-1} = \\left[\\begin{matrix}0.4 & -0.2\\\\0.3 & 0.1\\end{matrix}\\right]$"
      ],
      "text/plain": [
       "<IPython.core.display.Math object>"
      ]
     },
     "metadata": {},
     "output_type": "display_data"
    },
    {
     "data": {
      "text/latex": [
       "$\\displaystyle A^{-1} = \\left[\\begin{matrix}0.4 & -0.2\\\\0.3 & 0.1\\end{matrix}\\right]$"
      ],
      "text/plain": [
       "<IPython.core.display.Math object>"
      ]
     },
     "metadata": {},
     "output_type": "display_data"
    }
   ],
   "source": [
    "B = np.linalg.inv(A)\n",
    "disp_mat('B', B)\n",
    "disp_mat('A^{-1}', B)\n",
    "disp_mat(f'{latex(MatrixSymbol(\"A\", 2, 2).I)}', B)\n",
    "disp_tex(f'{latex(MatrixSymbol(\"A\", 2, 2).I)} = {latex(Matrix(B))}')\n",
    "disp_tex(f'A^{{-1}} = {latex(Matrix(B))}')"
   ]
  },
  {
   "cell_type": "code",
   "execution_count": 43,
   "metadata": {},
   "outputs": [
    {
     "data": {
      "text/latex": [
       "$\\displaystyle |A|=10.0$"
      ],
      "text/plain": [
       "<IPython.core.display.Math object>"
      ]
     },
     "metadata": {},
     "output_type": "display_data"
    },
    {
     "data": {
      "text/latex": [
       "$\\displaystyle \\left|{A}\\right|=10.0$"
      ],
      "text/plain": [
       "<IPython.core.display.Math object>"
      ]
     },
     "metadata": {},
     "output_type": "display_data"
    },
    {
     "data": {
      "text/latex": [
       "$\\displaystyle \\left|{A}\\right| = 10.000000000000002$"
      ],
      "text/plain": [
       "<IPython.core.display.Math object>"
      ]
     },
     "metadata": {},
     "output_type": "display_data"
    }
   ],
   "source": [
    "disp_mat('|A|', np.linalg.det(A))\n",
    "disp_mat(f'{latex(MatrixSymbol(\"A\", 2, 2).det())}', np.linalg.det(A))\n",
    "disp_tex(f'{latex(MatrixSymbol(\"A\", 2, 2).det())} = {np.linalg.det(A)}')"
   ]
  },
  {
   "cell_type": "code",
   "execution_count": 46,
   "metadata": {},
   "outputs": [
    {
     "data": {
      "text/latex": [
       "$\\displaystyle rank(A)=\\mathtt{\\text{2}}$"
      ],
      "text/plain": [
       "<IPython.core.display.Math object>"
      ]
     },
     "metadata": {},
     "output_type": "display_data"
    }
   ],
   "source": [
    "disp_mat('rank(A)', np.linalg.matrix_rank(A))"
   ]
  }
 ],
 "metadata": {
  "kernelspec": {
   "display_name": "Python (Docker)",
   "language": "python",
   "name": "my_docker_kernel"
  },
  "language_info": {
   "codemirror_mode": {
    "name": "ipython",
    "version": 3
   },
   "file_extension": ".py",
   "mimetype": "text/x-python",
   "name": "python",
   "nbconvert_exporter": "python",
   "pygments_lexer": "ipython3",
   "version": "3.13.2"
  }
 },
 "nbformat": 4,
 "nbformat_minor": 2
}
