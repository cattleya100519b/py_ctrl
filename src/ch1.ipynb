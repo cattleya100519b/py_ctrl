{
 "cells": [
  {
   "cell_type": "code",
   "execution_count": 24,
   "metadata": {},
   "outputs": [
    {
     "name": "stdout",
     "output_type": "stream",
     "text": [
      "7\n"
     ]
    }
   ],
   "source": [
    "# lambda function\n",
    "f = lambda x: x**2 + x + 1\n",
    "f1 = f\n",
    "y = f1(2)\n",
    "print(y)"
   ]
  },
  {
   "cell_type": "code",
   "execution_count": 25,
   "metadata": {},
   "outputs": [
    {
     "name": "stdout",
     "output_type": "stream",
     "text": [
      "14\n"
     ]
    }
   ],
   "source": [
    "# higher-order function\n",
    "g1 = g\n",
    "y = g1(f1)(2)\n",
    "print(y)"
   ]
  },
  {
   "cell_type": "code",
   "execution_count": 26,
   "metadata": {},
   "outputs": [
    {
     "name": "stdout",
     "output_type": "stream",
     "text": [
      "<class 'function'>\n",
      "9\n"
     ]
    }
   ],
   "source": [
    "from typing import Callable\n",
    "\n",
    "def outer(a: int, b: int)->Callable[[int],int]:\n",
    "    \"\"\"\n",
    "    return a function that takes an int and returns an int\n",
    "\n",
    "    Returns:\n",
    "        Callable[[int],int]: function that takes an int and returns an int\n",
    "    \"\"\"\n",
    "    def inner(c: int)->int:\n",
    "        \"\"\"\n",
    "        closure function that takes an int and returns an int\n",
    "        \"\"\"\n",
    "        return c*(a+b)\n",
    "    return inner\n",
    "\n",
    "in1=outer(1,2)\n",
    "print(type(in1))\n",
    "\n",
    "y=in1(3)\n",
    "print(y)"
   ]
  },
  {
   "cell_type": "code",
   "execution_count": 27,
   "metadata": {},
   "outputs": [
    {
     "name": "stdout",
     "output_type": "stream",
     "text": [
      "-\n",
      "--\n",
      "-.\n",
      ":\n"
     ]
    }
   ],
   "source": [
    "# generator\n",
    "def gen_linestyle():\n",
    "    linestyle = ['-', '--', '-.', ':']\n",
    "    for i in linestyle:\n",
    "        yield i\n",
    "\n",
    "for line in gen_linestyle():\n",
    "    print(line)"
   ]
  },
  {
   "cell_type": "code",
   "execution_count": 28,
   "metadata": {},
   "outputs": [
    {
     "name": "stdout",
     "output_type": "stream",
     "text": [
      "[1.0, 2.0, 3.0, 4.0, 5.0]\n",
      "[2.0, 4.0]\n"
     ]
    }
   ],
   "source": [
    "\n",
    "realnums = [1.0, 2.0, 3.0, 4.0, 5.0]\n",
    "list_all = [x for x in realnums]\n",
    "print(list_all)\n",
    "\n",
    "list_mod2 = [x for x in realnums if x % 2 == 0]\n",
    "print(list_mod2)"
   ]
  },
  {
   "cell_type": "code",
   "execution_count": 29,
   "metadata": {},
   "outputs": [
    {
     "name": "stdout",
     "output_type": "stream",
     "text": [
      "1225\n",
      "35.0\n"
     ]
    }
   ],
   "source": [
    "from numpy import sqrt\n",
    "\n",
    "s = sum([i for i in range(1,50)])\n",
    "print(s)\n",
    "print(sqrt(s))"
   ]
  }
 ],
 "metadata": {
  "language_info": {
   "name": "python"
  }
 },
 "nbformat": 4,
 "nbformat_minor": 2
}
