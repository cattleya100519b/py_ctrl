{
 "cells": [
  {
   "cell_type": "code",
   "execution_count": 8,
   "metadata": {},
   "outputs": [
    {
     "name": "stdout",
     "output_type": "stream",
     "text": [
      "1225\n",
      "35.0\n"
     ]
    }
   ],
   "source": [
    "from numpy import sqrt\n",
    "\n",
    "s = sum([i for i in range(1,50)])\n",
    "print(s)\n",
    "print(sqrt(s))"
   ]
  },
  {
   "cell_type": "code",
   "execution_count": 9,
   "metadata": {},
   "outputs": [
    {
     "data": {
      "text/latex": [
       "$\\displaystyle A=\\left[\\begin{matrix}1 & 2\\\\-3 & 4\\end{matrix}\\right]$"
      ],
      "text/plain": [
       "<IPython.core.display.Math object>"
      ]
     },
     "metadata": {},
     "output_type": "display_data"
    },
    {
     "data": {
      "text/latex": [
       "$\\displaystyle {}^t\\! A=\\left[\\begin{matrix}1 & -3\\\\2 & 4\\end{matrix}\\right]$"
      ],
      "text/plain": [
       "<IPython.core.display.Math object>"
      ]
     },
     "metadata": {},
     "output_type": "display_data"
    }
   ],
   "source": [
    "import numpy as np\n",
    "from common import disp_mat\n",
    "\n",
    "A = np.array([[1, 2], [-3, 4]])\n",
    "disp_mat('A', A)\n",
    "disp_mat('{}^t\\\\! A', A.T)"
   ]
  },
  {
   "cell_type": "code",
   "execution_count": 10,
   "metadata": {},
   "outputs": [
    {
     "data": {
      "text/latex": [
       "$\\displaystyle M = \\left[\\begin{matrix}1 & 2\\\\-3 & 4\\end{matrix}\\right]$"
      ],
      "text/plain": [
       "<IPython.core.display.Math object>"
      ]
     },
     "metadata": {},
     "output_type": "display_data"
    },
    {
     "data": {
      "text/latex": [
       "$\\displaystyle M^T = \\left[\\begin{matrix}1 & -3\\\\2 & 4\\end{matrix}\\right]$"
      ],
      "text/plain": [
       "<IPython.core.display.Math object>"
      ]
     },
     "metadata": {},
     "output_type": "display_data"
    },
    {
     "data": {
      "text/latex": [
       "$\\displaystyle M^{T} = \\left[\\begin{matrix}1 & -3\\\\2 & 4\\end{matrix}\\right]$"
      ],
      "text/plain": [
       "<IPython.core.display.Math object>"
      ]
     },
     "metadata": {},
     "output_type": "display_data"
    }
   ],
   "source": [
    "from sympy import latex, Matrix, MatrixSymbol\n",
    "from common import disp_tex\n",
    "\n",
    "M = Matrix([[1, 2], [-3, 4]])\n",
    "disp_tex(f'M = {latex(M)}')\n",
    "disp_tex(f'M^T = {latex(M.T)}')\n",
    "disp_tex(f'{latex(MatrixSymbol(\"M\", 2, 2).T)} = {latex(M.T)}')"
   ]
  },
  {
   "cell_type": "code",
   "execution_count": 11,
   "metadata": {},
   "outputs": [
    {
     "data": {
      "text/latex": [
       "$\\displaystyle B=\\left[\\begin{matrix}0.4 & -0.2\\\\0.3 & 0.1\\end{matrix}\\right]$"
      ],
      "text/plain": [
       "<IPython.core.display.Math object>"
      ]
     },
     "metadata": {},
     "output_type": "display_data"
    },
    {
     "data": {
      "text/latex": [
       "$\\displaystyle A^{-1}=\\left[\\begin{matrix}0.4 & -0.2\\\\0.3 & 0.1\\end{matrix}\\right]$"
      ],
      "text/plain": [
       "<IPython.core.display.Math object>"
      ]
     },
     "metadata": {},
     "output_type": "display_data"
    },
    {
     "data": {
      "text/latex": [
       "$\\displaystyle A^{-1}=\\left[\\begin{matrix}0.4 & -0.2\\\\0.3 & 0.1\\end{matrix}\\right]$"
      ],
      "text/plain": [
       "<IPython.core.display.Math object>"
      ]
     },
     "metadata": {},
     "output_type": "display_data"
    },
    {
     "data": {
      "text/latex": [
       "$\\displaystyle A^{-1} = \\left[\\begin{matrix}0.4 & -0.2\\\\0.3 & 0.1\\end{matrix}\\right]$"
      ],
      "text/plain": [
       "<IPython.core.display.Math object>"
      ]
     },
     "metadata": {},
     "output_type": "display_data"
    },
    {
     "data": {
      "text/latex": [
       "$\\displaystyle A^{-1} = \\left[\\begin{matrix}0.4 & -0.2\\\\0.3 & 0.1\\end{matrix}\\right]$"
      ],
      "text/plain": [
       "<IPython.core.display.Math object>"
      ]
     },
     "metadata": {},
     "output_type": "display_data"
    }
   ],
   "source": [
    "B = np.linalg.inv(A)\n",
    "disp_mat('B', B)\n",
    "disp_mat('A^{-1}', B)\n",
    "disp_mat(f'{latex(MatrixSymbol(\"A\", 2, 2).I)}', B)\n",
    "disp_tex(f'{latex(MatrixSymbol(\"A\", 2, 2).I)} = {latex(Matrix(B))}')\n",
    "disp_tex(f'A^{{-1}} = {latex(Matrix(B))}')"
   ]
  },
  {
   "cell_type": "code",
   "execution_count": 12,
   "metadata": {},
   "outputs": [
    {
     "data": {
      "text/latex": [
       "$\\displaystyle |A|=10.0$"
      ],
      "text/plain": [
       "<IPython.core.display.Math object>"
      ]
     },
     "metadata": {},
     "output_type": "display_data"
    },
    {
     "data": {
      "text/latex": [
       "$\\displaystyle \\left|{A}\\right|=10.0$"
      ],
      "text/plain": [
       "<IPython.core.display.Math object>"
      ]
     },
     "metadata": {},
     "output_type": "display_data"
    },
    {
     "data": {
      "text/latex": [
       "$\\displaystyle \\left|{A}\\right| = 10.000000000000002$"
      ],
      "text/plain": [
       "<IPython.core.display.Math object>"
      ]
     },
     "metadata": {},
     "output_type": "display_data"
    }
   ],
   "source": [
    "disp_mat('|A|', np.linalg.det(A))\n",
    "disp_mat(f'{latex(MatrixSymbol(\"A\", 2, 2).det())}', np.linalg.det(A))\n",
    "disp_tex(f'{latex(MatrixSymbol(\"A\", 2, 2).det())} = {np.linalg.det(A)}')"
   ]
  },
  {
   "cell_type": "code",
   "execution_count": 13,
   "metadata": {},
   "outputs": [
    {
     "data": {
      "text/latex": [
       "$\\displaystyle rank(A)=\\mathtt{\\text{2}}$"
      ],
      "text/plain": [
       "<IPython.core.display.Math object>"
      ]
     },
     "metadata": {},
     "output_type": "display_data"
    }
   ],
   "source": [
    "disp_mat('rank(A)', np.linalg.matrix_rank(A))"
   ]
  },
  {
   "cell_type": "code",
   "execution_count": 14,
   "metadata": {},
   "outputs": [
    {
     "data": {
      "text/latex": [
       "$\\displaystyle A=\\left[\\begin{matrix}1 & 2\\\\-3 & 4\\end{matrix}\\right]$"
      ],
      "text/plain": [
       "<IPython.core.display.Math object>"
      ]
     },
     "metadata": {},
     "output_type": "display_data"
    },
    {
     "data": {
      "text/latex": [
       "$\\displaystyle \\lambda:=eigvals(A)=\\left[\\begin{matrix}2.5 + 1.93649167310371 i\\\\2.5 - 1.93649167310371 i\\end{matrix}\\right]$"
      ],
      "text/plain": [
       "<IPython.core.display.Math object>"
      ]
     },
     "metadata": {},
     "output_type": "display_data"
    },
    {
     "data": {
      "text/latex": [
       "$\\displaystyle \\lambda:=\\text{eigenvalues of } A = \\mathtt{\\text{[2.5+1.93649167j 2.5-1.93649167j]}}$"
      ],
      "text/plain": [
       "<IPython.core.display.Math object>"
      ]
     },
     "metadata": {},
     "output_type": "display_data"
    },
    {
     "data": {
      "text/latex": [
       "$\\displaystyle \\bm{x}:=eigvecs(A)=\\left[\\begin{matrix}-0.387298334620742 + 0.5 i & -0.387298334620742 - 0.5 i\\\\-0.774596669241484 & -0.774596669241484\\end{matrix}\\right]$"
      ],
      "text/plain": [
       "<IPython.core.display.Math object>"
      ]
     },
     "metadata": {},
     "output_type": "display_data"
    },
    {
     "data": {
      "text/latex": [
       "$\\displaystyle \\bm{x}:=\\text{eigenvectors of } A = \\mathtt{\\text{[[-0.38729833+0.5j -0.38729833-0.5j]\n",
       " [-0.77459667+0.j  -0.77459667-0.j ]]}}$"
      ],
      "text/plain": [
       "<IPython.core.display.Math object>"
      ]
     },
     "metadata": {},
     "output_type": "display_data"
    },
    {
     "data": {
      "text/latex": [
       "$\\displaystyle A\\bm{x}=\\left[\\begin{matrix}-1.93649167310371 + 0.5 i & -1.93649167310371 - 0.5 i\\\\-1.93649167310371 - 1.5 i & -1.93649167310371 + 1.5 i\\end{matrix}\\right]$"
      ],
      "text/plain": [
       "<IPython.core.display.Math object>"
      ]
     },
     "metadata": {},
     "output_type": "display_data"
    },
    {
     "data": {
      "text/latex": [
       "$\\displaystyle \\lambda\\bm{x}=\\left[\\begin{matrix}-1.93649167310371 + 0.5 i & -1.93649167310371 - 0.5 i\\\\-1.93649167310371 - 1.5 i & -1.93649167310371 + 1.5 i\\end{matrix}\\right]$"
      ],
      "text/plain": [
       "<IPython.core.display.Math object>"
      ]
     },
     "metadata": {},
     "output_type": "display_data"
    },
    {
     "data": {
      "text/plain": [
       "True"
      ]
     },
     "execution_count": 14,
     "metadata": {},
     "output_type": "execute_result"
    }
   ],
   "source": [
    "disp_mat('A', A)\n",
    "\n",
    "eigvals, eigvecs = np.linalg.eig(A)\n",
    "\n",
    "# print(eigvals)\n",
    "disp_mat('\\\\lambda:=eigvals(A)', eigvals)\n",
    "disp_tex(f'\\\\lambda:=\\\\text{{eigenvalues of }} A = {latex(eigvals)}')\n",
    "\n",
    "# print(eigvecs)\n",
    "disp_mat('\\\\bm{x}:=eigvecs(A)', eigvecs)\n",
    "disp_tex(f'\\\\bm{{x}}:=\\\\text{{eigenvectors of }} A = {latex(eigvecs)}')\n",
    "\n",
    "disp_mat('A\\\\bm{x}', left:=A@eigvecs)\n",
    "disp_mat('\\\\lambda\\\\bm{x}', right:=eigvecs*eigvals)\n",
    "np.allclose(left, right)"
   ]
  }
 ],
 "metadata": {
  "kernelspec": {
   "display_name": "Python (Docker)",
   "language": "python",
   "name": "my_docker_kernel"
  },
  "language_info": {
   "codemirror_mode": {
    "name": "ipython",
    "version": 3
   },
   "file_extension": ".py",
   "mimetype": "text/x-python",
   "name": "python",
   "nbconvert_exporter": "python",
   "pygments_lexer": "ipython3",
   "version": "3.13.2"
  }
 },
 "nbformat": 4,
 "nbformat_minor": 2
}
