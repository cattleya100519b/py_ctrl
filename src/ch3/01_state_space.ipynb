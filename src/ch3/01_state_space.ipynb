{
 "cells": [
  {
   "cell_type": "code",
   "execution_count": 18,
   "metadata": {},
   "outputs": [
    {
     "name": "stdout",
     "output_type": "stream",
     "text": [
      "<StateSpace>: sys[17]\n",
      "Inputs (1): ['u[0]']\n",
      "Outputs (1): ['y[0]']\n",
      "States (2): ['x[0]', 'x[1]']\n",
      "\n",
      "A = [[ 0.  1.]\n",
      "     [-1. -1.]]\n",
      "\n",
      "B = [[0.]\n",
      "     [1.]]\n",
      "\n",
      "C = [[1. 0.]]\n",
      "\n",
      "D = [[0.]]\n",
      "\n"
     ]
    }
   ],
   "source": [
    "from control.matlab import ss, ssdata\n",
    "import numpy as np\n",
    "\n",
    "A = np.array([[0, 1], [-1, -1]])\n",
    "B = np.array([[0], [1]])\n",
    "C = np.array([[1, 0]])\n",
    "D = np.array([[0]])\n",
    "\n",
    "P = ss(A, B, C, D)\n",
    "print(P)"
   ]
  },
  {
   "cell_type": "code",
   "execution_count": 19,
   "metadata": {},
   "outputs": [
    {
     "data": {
      "text/latex": [
       "$\\displaystyle A=\\left[\\begin{matrix}0 & 1\\\\-1 & -1\\end{matrix}\\right]$"
      ],
      "text/plain": [
       "<IPython.core.display.Math object>"
      ]
     },
     "metadata": {},
     "output_type": "display_data"
    },
    {
     "data": {
      "text/latex": [
       "$\\displaystyle B=\\left[\\begin{matrix}0\\\\1\\end{matrix}\\right]$"
      ],
      "text/plain": [
       "<IPython.core.display.Math object>"
      ]
     },
     "metadata": {},
     "output_type": "display_data"
    },
    {
     "data": {
      "text/latex": [
       "$\\displaystyle C=\\left[\\begin{matrix}1 & 0\\end{matrix}\\right]$"
      ],
      "text/plain": [
       "<IPython.core.display.Math object>"
      ]
     },
     "metadata": {},
     "output_type": "display_data"
    },
    {
     "data": {
      "text/latex": [
       "$\\displaystyle D=\\left[\\begin{matrix}0\\end{matrix}\\right]$"
      ],
      "text/plain": [
       "<IPython.core.display.Math object>"
      ]
     },
     "metadata": {},
     "output_type": "display_data"
    }
   ],
   "source": [
    "from common import disp_mat\n",
    "\n",
    "disp_mat('A', P.A.astype(np.int8))\n",
    "disp_mat('B', P.B.astype(np.int8))\n",
    "disp_mat('C', P.C.astype(np.int8))\n",
    "disp_mat('D', P.D.astype(np.int8))"
   ]
  },
  {
   "cell_type": "code",
   "execution_count": 20,
   "metadata": {},
   "outputs": [
    {
     "name": "stdout",
     "output_type": "stream",
     "text": [
      "<StateSpace>: sys[18]\n",
      "Inputs (1): ['u[0]']\n",
      "Outputs (1): ['y[0]']\n",
      "States (3): ['x[0]', 'x[1]', 'x[2]']\n",
      "\n",
      "A = [[1. 1. 2.]\n",
      "     [2. 1. 1.]\n",
      "     [3. 4. 5.]]\n",
      "\n",
      "B = [[2.]\n",
      "     [0.]\n",
      "     [1.]]\n",
      "\n",
      "C = [[1. 1. 0.]]\n",
      "\n",
      "D = [[0.]]\n",
      "\n"
     ]
    }
   ],
   "source": [
    "A = np.array([[1,1,2], [2,1,1], [3,4,5]])\n",
    "B = np.array([[2], [0], [1]])\n",
    "C = np.array([[1,1,0]])\n",
    "D = np.array([0])\n",
    "\n",
    "P = ss(A, B, C, D)\n",
    "print(P)"
   ]
  },
  {
   "cell_type": "code",
   "execution_count": 21,
   "metadata": {},
   "outputs": [
    {
     "data": {
      "text/latex": [
       "$\\displaystyle A=\\left[\\begin{matrix}1 & 1 & 2\\\\2 & 1 & 1\\\\3 & 4 & 5\\end{matrix}\\right]$"
      ],
      "text/plain": [
       "<IPython.core.display.Math object>"
      ]
     },
     "metadata": {},
     "output_type": "display_data"
    },
    {
     "data": {
      "text/latex": [
       "$\\displaystyle B=\\left[\\begin{matrix}2\\\\0\\\\1\\end{matrix}\\right]$"
      ],
      "text/plain": [
       "<IPython.core.display.Math object>"
      ]
     },
     "metadata": {},
     "output_type": "display_data"
    },
    {
     "data": {
      "text/latex": [
       "$\\displaystyle C=\\left[\\begin{matrix}1 & 1 & 0\\end{matrix}\\right]$"
      ],
      "text/plain": [
       "<IPython.core.display.Math object>"
      ]
     },
     "metadata": {},
     "output_type": "display_data"
    },
    {
     "data": {
      "text/latex": [
       "$\\displaystyle D=\\left[\\begin{matrix}0\\end{matrix}\\right]$"
      ],
      "text/plain": [
       "<IPython.core.display.Math object>"
      ]
     },
     "metadata": {},
     "output_type": "display_data"
    }
   ],
   "source": [
    "data = ssdata(P)\n",
    "for name, mat in zip(['A', 'B', 'C', 'D'], data):\n",
    "    disp_mat(name, mat.astype(np.int8))"
   ]
  }
 ],
 "metadata": {
  "kernelspec": {
   "display_name": "Python (Docker)",
   "language": "python",
   "name": "my_docker_kernel"
  },
  "language_info": {
   "codemirror_mode": {
    "name": "ipython",
    "version": 3
   },
   "file_extension": ".py",
   "mimetype": "text/x-python",
   "name": "python",
   "nbconvert_exporter": "python",
   "pygments_lexer": "ipython3",
   "version": "3.13.2"
  }
 },
 "nbformat": 4,
 "nbformat_minor": 2
}
