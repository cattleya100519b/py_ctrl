{
 "cells": [
  {
   "cell_type": "markdown",
   "metadata": {},
   "source": [
    "# 3.3 伝達関数モデル"
   ]
  },
  {
   "cell_type": "markdown",
   "metadata": {},
   "source": [
    "## 状態空間モデルと伝達関数モデルの関係"
   ]
  },
  {
   "cell_type": "code",
   "execution_count": 1,
   "metadata": {},
   "outputs": [
    {
     "name": "stdout",
     "output_type": "stream",
     "text": [
      "<TransferFunction>: sys[0]\n",
      "Inputs (1): ['u[0]']\n",
      "Outputs (1): ['y[0]']\n",
      "\n",
      "\n",
      "     1\n",
      "-----------\n",
      "s^2 + s + 1\n",
      "\n"
     ]
    }
   ],
   "source": [
    "from control.matlab import tf, tf2ss, ss2tf\n",
    "\n",
    "P = tf([0,1],[1,1,1])\n",
    "print(P)"
   ]
  },
  {
   "cell_type": "code",
   "execution_count": 2,
   "metadata": {},
   "outputs": [
    {
     "name": "stdout",
     "output_type": "stream",
     "text": [
      "<StateSpace>: sys[0]\n",
      "Inputs (1): ['u[0]']\n",
      "Outputs (1): ['y[0]']\n",
      "States (2): ['x[0]', 'x[1]']\n",
      "\n",
      "A = [[-1. -1.]\n",
      "     [ 1.  0.]]\n",
      "\n",
      "B = [[1.]\n",
      "     [0.]]\n",
      "\n",
      "C = [[0. 1.]]\n",
      "\n",
      "D = [[0.]]\n",
      "\n"
     ]
    }
   ],
   "source": [
    "Pss = tf2ss(P)\n",
    "print(Pss)"
   ]
  },
  {
   "cell_type": "code",
   "execution_count": 3,
   "metadata": {},
   "outputs": [
    {
     "name": "stdout",
     "output_type": "stream",
     "text": [
      "<TransferFunction>: sys[2]\n",
      "Inputs (1): ['u[0]']\n",
      "Outputs (1): ['y[0]']\n",
      "\n",
      "\n",
      "     1\n",
      "-----------\n",
      "s^2 + s + 1\n",
      "\n"
     ]
    }
   ],
   "source": [
    "Ptf = ss2tf(Pss)\n",
    "print(Ptf)"
   ]
  },
  {
   "cell_type": "code",
   "execution_count": 4,
   "metadata": {},
   "outputs": [
    {
     "data": {
      "text/latex": [
       "$\\displaystyle A=\\left[\\begin{matrix}-1 & -1\\\\1 & 0\\end{matrix}\\right]$"
      ],
      "text/plain": [
       "<IPython.core.display.Math object>"
      ]
     },
     "metadata": {},
     "output_type": "display_data"
    },
    {
     "data": {
      "text/latex": [
       "$\\displaystyle B=\\left[\\begin{matrix}1\\\\0\\end{matrix}\\right]$"
      ],
      "text/plain": [
       "<IPython.core.display.Math object>"
      ]
     },
     "metadata": {},
     "output_type": "display_data"
    },
    {
     "data": {
      "text/latex": [
       "$\\displaystyle C=\\left[\\begin{matrix}0 & 1\\end{matrix}\\right]$"
      ],
      "text/plain": [
       "<IPython.core.display.Math object>"
      ]
     },
     "metadata": {},
     "output_type": "display_data"
    },
    {
     "data": {
      "text/latex": [
       "$\\displaystyle D=\\left[\\begin{matrix}0\\end{matrix}\\right]$"
      ],
      "text/plain": [
       "<IPython.core.display.Math object>"
      ]
     },
     "metadata": {},
     "output_type": "display_data"
    },
    {
     "data": {
      "text/latex": [
       "$\\displaystyle \\left[\\begin{matrix}\\frac{1}{s^{2} + s + 1}\\end{matrix}\\right]$"
      ],
      "text/plain": [
       "Matrix([[1/(s**2 + s + 1)]])"
      ]
     },
     "execution_count": 4,
     "metadata": {},
     "output_type": "execute_result"
    }
   ],
   "source": [
    "from control.matlab import ssdata\n",
    "from sympy import Matrix, Symbol\n",
    "from common import disp_mat\n",
    "import numpy as np\n",
    "\n",
    "data = ssdata(Pss)\n",
    "for name, mat in zip(['A', 'B', 'C', 'D'], data):\n",
    "    disp_mat(name, mat.astype(np.int8))\n",
    "\n",
    "A, B, C, D = data\n",
    "A = Matrix(A.astype(np.int8))\n",
    "B = Matrix(B.astype(np.int8))\n",
    "C = Matrix(C.astype(np.int8))\n",
    "D = Matrix(D.astype(np.int8))\n",
    "I = Matrix(np.eye(A.shape[0]).astype(np.int8))\n",
    "s = Symbol('s')\n",
    "\n",
    "result = C * (s * I - A).inv() * B + D\n",
    "result"
   ]
  },
  {
   "cell_type": "code",
   "execution_count": 5,
   "metadata": {},
   "outputs": [
    {
     "name": "stdout",
     "output_type": "stream",
     "text": [
      "<StateSpace>: sys[3]\n",
      "Inputs (1): ['u[0]']\n",
      "Outputs (1): ['y[0]']\n",
      "States (3): ['x[0]', 'x[1]', 'x[2]']\n",
      "\n",
      "A = [[1. 2. 3.]\n",
      "     [3. 2. 1.]\n",
      "     [4. 5. 0.]]\n",
      "\n",
      "B = [[1.]\n",
      "     [0.]\n",
      "     [1.]]\n",
      "\n",
      "C = [[0. 2. 1.]]\n",
      "\n",
      "D = [[0.]]\n",
      "\n"
     ]
    }
   ],
   "source": [
    "from control import ss, canonical_form\n",
    "import numpy as np\n",
    "\n",
    "A = np.array([[1, 2, 3], [3, 2, 1], [4, 5, 0]])\n",
    "B = np.array([[1], [0], [1]])\n",
    "C = np.array([[0, 2, 1]])\n",
    "D = np.array([[0]])\n",
    "\n",
    "Pss = ss(A, B, C, D)\n",
    "print(Pss)"
   ]
  },
  {
   "cell_type": "code",
   "execution_count": 6,
   "metadata": {},
   "outputs": [
    {
     "name": "stdout",
     "output_type": "stream",
     "text": [
      "<StateSpace>: sys[3]\n",
      "Inputs (1): ['u[0]']\n",
      "Outputs (1): ['y[0]']\n",
      "States (3): ['x[0]', 'x[1]', 'x[2]']\n",
      "\n",
      "A = [[ 3. 21. 24.]\n",
      "     [ 1.  0.  0.]\n",
      "     [ 0.  1.  0.]]\n",
      "\n",
      "B = [[1.]\n",
      "     [0.]\n",
      "     [0.]]\n",
      "\n",
      "C = [[ 1.  9. 27.]]\n",
      "\n",
      "D = [[0.]]\n",
      "\n"
     ]
    }
   ],
   "source": [
    "Pr, T = canonical_form(Pss, form='reachable')\n",
    "print(Pr)"
   ]
  },
  {
   "cell_type": "code",
   "execution_count": 7,
   "metadata": {},
   "outputs": [
    {
     "name": "stdout",
     "output_type": "stream",
     "text": [
      "<StateSpace>: sys[3]\n",
      "Inputs (1): ['u[0]']\n",
      "Outputs (1): ['y[0]']\n",
      "States (3): ['x[0]', 'x[1]', 'x[2]']\n",
      "\n",
      "A = [[ 3.  1.  0.]\n",
      "     [21.  0.  1.]\n",
      "     [24.  0.  0.]]\n",
      "\n",
      "B = [[ 1.]\n",
      "     [ 9.]\n",
      "     [27.]]\n",
      "\n",
      "C = [[1. 0. 0.]]\n",
      "\n",
      "D = [[0.]]\n",
      "\n"
     ]
    }
   ],
   "source": [
    "Po, T = canonical_form(Pss, form='observable')\n",
    "print(Po)"
   ]
  }
 ],
 "metadata": {
  "kernelspec": {
   "display_name": "Python (Docker)",
   "language": "python",
   "name": "my_docker_kernel"
  },
  "language_info": {
   "codemirror_mode": {
    "name": "ipython",
    "version": 3
   },
   "file_extension": ".py",
   "mimetype": "text/x-python",
   "name": "python",
   "nbconvert_exporter": "python",
   "pygments_lexer": "ipython3",
   "version": "3.13.2"
  }
 },
 "nbformat": 4,
 "nbformat_minor": 2
}
