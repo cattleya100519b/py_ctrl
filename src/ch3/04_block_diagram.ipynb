{
 "cells": [
  {
   "cell_type": "markdown",
   "metadata": {},
   "source": [
    "# 3.4 ブロック線図"
   ]
  },
  {
   "cell_type": "code",
   "execution_count": 29,
   "metadata": {},
   "outputs": [
    {
     "name": "stdout",
     "output_type": "stream",
     "text": [
      "<TransferFunction>: sys[62]\n",
      "Inputs (1): ['u[0]']\n",
      "Outputs (1): ['y[0]']\n",
      "\n",
      "\n",
      "  1\n",
      "-----\n",
      "s + 1\n",
      "\n",
      "<TransferFunction>: sys[63]\n",
      "Inputs (1): ['u[0]']\n",
      "Outputs (1): ['y[0]']\n",
      "\n",
      "\n",
      "   s + 1\n",
      "-----------\n",
      "s^2 + s + 1\n",
      "\n"
     ]
    }
   ],
   "source": [
    "from control.matlab import tf, series\n",
    "\n",
    "S1 = tf([0,1], [1,1])\n",
    "S2 = tf([1,1], [1,1,1])\n",
    "\n",
    "print(S1)\n",
    "print(S2)"
   ]
  },
  {
   "cell_type": "markdown",
   "metadata": {},
   "source": [
    "## 3.4.1 直列結合"
   ]
  },
  {
   "cell_type": "code",
   "execution_count": 30,
   "metadata": {},
   "outputs": [
    {
     "name": "stdout",
     "output_type": "stream",
     "text": [
      "<TransferFunction>: sys[64]\n",
      "Inputs (1): ['u[0]']\n",
      "Outputs (1): ['y[0]']\n",
      "\n",
      "\n",
      "        s + 1\n",
      "---------------------\n",
      "s^3 + 2 s^2 + 2 s + 1\n",
      "\n",
      "<TransferFunction>: sys[65]\n",
      "Inputs (1): ['u[0]']\n",
      "Outputs (1): ['y[0]']\n",
      "\n",
      "\n",
      "     1\n",
      "-----------\n",
      "s^2 + s + 1\n",
      "\n"
     ]
    }
   ],
   "source": [
    "S = series(S1, S2)\n",
    "print(S)\n",
    "print(S.minreal())"
   ]
  },
  {
   "cell_type": "code",
   "execution_count": 31,
   "metadata": {},
   "outputs": [
    {
     "name": "stdout",
     "output_type": "stream",
     "text": [
      "<TransferFunction>: sys[67]\n",
      "Inputs (1): ['u[0]']\n",
      "Outputs (1): ['y[0]']\n",
      "\n",
      "\n",
      "     1\n",
      "-----------\n",
      "s^2 + s + 1\n",
      "\n"
     ]
    }
   ],
   "source": [
    "S = S1 * S2\n",
    "print(S.minreal())"
   ]
  },
  {
   "cell_type": "code",
   "execution_count": 32,
   "metadata": {},
   "outputs": [
    {
     "name": "stdout",
     "output_type": "stream",
     "text": [
      "<TransferFunction>: sys[69]\n",
      "Inputs (1): ['u[0]']\n",
      "Outputs (1): ['y[0]']\n",
      "\n",
      "\n",
      "     1\n",
      "-----------\n",
      "s^2 + s + 1\n",
      "\n"
     ]
    }
   ],
   "source": [
    "S = S2 * S1\n",
    "print(S.minreal())"
   ]
  },
  {
   "cell_type": "markdown",
   "metadata": {},
   "source": [
    "## 3.4.2 並列結合"
   ]
  },
  {
   "cell_type": "code",
   "execution_count": 33,
   "metadata": {},
   "outputs": [
    {
     "name": "stdout",
     "output_type": "stream",
     "text": [
      "<TransferFunction>: sys[70]\n",
      "Inputs (1): ['u[0]']\n",
      "Outputs (1): ['y[0]']\n",
      "\n",
      "\n",
      "   2 s^2 + 3 s + 2\n",
      "---------------------\n",
      "s^3 + 2 s^2 + 2 s + 1\n",
      "\n"
     ]
    }
   ],
   "source": [
    "from control.matlab import parallel\n",
    "\n",
    "S = parallel(S1, S2)\n",
    "print(S)"
   ]
  },
  {
   "cell_type": "code",
   "execution_count": 34,
   "metadata": {},
   "outputs": [
    {
     "name": "stdout",
     "output_type": "stream",
     "text": [
      "<TransferFunction>: sys[71]\n",
      "Inputs (1): ['u[0]']\n",
      "Outputs (1): ['y[0]']\n",
      "\n",
      "\n",
      "   2 s^2 + 3 s + 2\n",
      "---------------------\n",
      "s^3 + 2 s^2 + 2 s + 1\n",
      "\n"
     ]
    }
   ],
   "source": [
    "S = S1 + S2\n",
    "print(S)"
   ]
  },
  {
   "cell_type": "code",
   "execution_count": 35,
   "metadata": {},
   "outputs": [
    {
     "name": "stdout",
     "output_type": "stream",
     "text": [
      "<TransferFunction>: sys[72]\n",
      "Inputs (1): ['u[0]']\n",
      "Outputs (1): ['y[0]']\n",
      "\n",
      "\n",
      "   2 s^2 + 3 s + 2\n",
      "---------------------\n",
      "s^3 + 2 s^2 + 2 s + 1\n",
      "\n"
     ]
    }
   ],
   "source": [
    "S = S2 + S1\n",
    "print(S)"
   ]
  },
  {
   "cell_type": "markdown",
   "metadata": {},
   "source": [
    "## 3.4.3 フィードバック結合"
   ]
  },
  {
   "cell_type": "code",
   "execution_count": 38,
   "metadata": {},
   "outputs": [
    {
     "name": "stdout",
     "output_type": "stream",
     "text": [
      "<TransferFunction>: sys[82]\n",
      "Inputs (1): ['u[0]']\n",
      "Outputs (1): ['y[0]']\n",
      "\n",
      "\n",
      "     s^2 + s + 1\n",
      "---------------------\n",
      "s^3 + 2 s^2 + 3 s + 2\n",
      "\n"
     ]
    }
   ],
   "source": [
    "from control.matlab import feedback\n",
    "\n",
    "S = S1 / (1 + S1*S2)\n",
    "print(S.minreal())"
   ]
  },
  {
   "cell_type": "code",
   "execution_count": 37,
   "metadata": {},
   "outputs": [
    {
     "name": "stdout",
     "output_type": "stream",
     "text": [
      "<TransferFunction>: sys[77]\n",
      "Inputs (1): ['u[0]']\n",
      "Outputs (1): ['y[0]']\n",
      "\n",
      "\n",
      "     s^2 + s + 1\n",
      "---------------------\n",
      "s^3 + 2 s^2 + 3 s + 2\n",
      "\n"
     ]
    }
   ],
   "source": [
    "S = feedback(S1, S2)\n",
    "print(S)"
   ]
  },
  {
   "cell_type": "code",
   "execution_count": 45,
   "metadata": {},
   "outputs": [
    {
     "name": "stdout",
     "output_type": "stream",
     "text": [
      "<TransferFunction>: sys[133]\n",
      "Inputs (1): ['u[0]']\n",
      "Outputs (1): ['y[0]']\n",
      "\n",
      "\n",
      "  3 s^2 + 7 s + 2\n",
      "--------------------\n",
      "7 s^3 + 17 s^2 + 7 s\n",
      "\n"
     ]
    }
   ],
   "source": [
    "S1 = tf([0,1], [1,1])\n",
    "S2 = tf([0,1], [1,2])\n",
    "S3 = tf([3,1], [1,0])\n",
    "S4 = tf([2,0], [0,1])\n",
    "\n",
    "S = feedback(S3*feedback(S1, S2), S4)\n",
    "print(S)"
   ]
  }
 ],
 "metadata": {
  "kernelspec": {
   "display_name": "Python (Docker)",
   "language": "python",
   "name": "my_docker_kernel"
  },
  "language_info": {
   "codemirror_mode": {
    "name": "ipython",
    "version": 3
   },
   "file_extension": ".py",
   "mimetype": "text/x-python",
   "name": "python",
   "nbconvert_exporter": "python",
   "pygments_lexer": "ipython3",
   "version": "3.13.2"
  }
 },
 "nbformat": 4,
 "nbformat_minor": 2
}
