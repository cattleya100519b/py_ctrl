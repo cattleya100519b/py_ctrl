{
 "cells": [
  {
   "cell_type": "code",
   "execution_count": 1,
   "metadata": {},
   "outputs": [
    {
     "name": "stdout",
     "output_type": "stream",
     "text": [
      "<TransferFunction>: sys[0]\n",
      "Inputs (1): ['u[0]']\n",
      "Outputs (1): ['y[0]']\n",
      "\n",
      "\n",
      "      1\n",
      "-------------\n",
      "s^2 + 2 s + 3\n",
      "\n"
     ]
    }
   ],
   "source": [
    "from control.matlab import tf, tfdata\n",
    "import numpy as np\n",
    "\n",
    "Np = np.array([0,1])\n",
    "Dp = np.array([1,2,3])\n",
    "P = tf(Np, Dp)\n",
    "\n",
    "print(P)"
   ]
  },
  {
   "cell_type": "code",
   "execution_count": 2,
   "metadata": {},
   "outputs": [
    {
     "name": "stdout",
     "output_type": "stream",
     "text": [
      "<TransferFunction>: sys[1]\n",
      "Inputs (1): ['u[0]']\n",
      "Outputs (1): ['y[0]']\n",
      "\n",
      "\n",
      "        s + 2\n",
      "---------------------\n",
      "s^3 + 5 s^2 + 3 s + 4\n",
      "\n"
     ]
    }
   ],
   "source": [
    "print(tf([1,2], [1,5,3,4]))"
   ]
  },
  {
   "cell_type": "code",
   "execution_count": 3,
   "metadata": {},
   "outputs": [
    {
     "name": "stdout",
     "output_type": "stream",
     "text": [
      "<TransferFunction>: sys[7]\n",
      "Inputs (1): ['u[0]']\n",
      "Outputs (1): ['y[0]']\n",
      "\n",
      "\n",
      "        s + 3\n",
      "---------------------\n",
      "s^3 + 5 s^2 + 8 s + 4\n",
      "\n"
     ]
    }
   ],
   "source": [
    "print(tf([1,3],[1,1])*tf([0,1],[1,2])**2)"
   ]
  },
  {
   "cell_type": "code",
   "execution_count": 7,
   "metadata": {},
   "outputs": [
    {
     "name": "stdout",
     "output_type": "stream",
     "text": [
      "<TransferFunction>: sys[0]\n",
      "Inputs (1): ['u[0]']\n",
      "Outputs (1): ['y[0]']\n",
      "\n",
      "\n",
      "      1\n",
      "-------------\n",
      "s^2 + 2 s + 3\n",
      "\n",
      "[[array([1])]]\n",
      "[[array([1, 2, 3])]]\n"
     ]
    }
   ],
   "source": [
    "[num, den] = tfdata(P)\n",
    "print(P)\n",
    "print(num)\n",
    "print(den)"
   ]
  }
 ],
 "metadata": {
  "kernelspec": {
   "display_name": "Python (Docker)",
   "language": "python",
   "name": "my_docker_kernel"
  },
  "language_info": {
   "codemirror_mode": {
    "name": "ipython",
    "version": 3
   },
   "file_extension": ".py",
   "mimetype": "text/x-python",
   "name": "python",
   "nbconvert_exporter": "python",
   "pygments_lexer": "ipython3",
   "version": "3.13.2"
  }
 },
 "nbformat": 4,
 "nbformat_minor": 2
}
